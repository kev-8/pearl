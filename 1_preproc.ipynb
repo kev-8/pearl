{
 "cells": [
  {
   "cell_type": "code",
   "execution_count": 133,
   "metadata": {},
   "outputs": [],
   "source": [
    "# load in libraries\n",
    "\n",
    "import pandas as pd\n",
    "import pandas_gbq\n",
    "from google.cloud import bigquery\n",
    "from google.oauth2 import service_account"
   ]
  },
  {
   "cell_type": "code",
   "execution_count": 135,
   "metadata": {},
   "outputs": [
    {
     "data": {
      "text/html": [
       "<div>\n",
       "<style scoped>\n",
       "    .dataframe tbody tr th:only-of-type {\n",
       "        vertical-align: middle;\n",
       "    }\n",
       "\n",
       "    .dataframe tbody tr th {\n",
       "        vertical-align: top;\n",
       "    }\n",
       "\n",
       "    .dataframe thead th {\n",
       "        text-align: right;\n",
       "    }\n",
       "</style>\n",
       "<table border=\"1\" class=\"dataframe\">\n",
       "  <thead>\n",
       "    <tr style=\"text-align: right;\">\n",
       "      <th></th>\n",
       "      <th>source</th>\n",
       "      <th>fips</th>\n",
       "    </tr>\n",
       "  </thead>\n",
       "  <tbody>\n",
       "    <tr>\n",
       "      <th>0</th>\n",
       "      <td>0-100.it</td>\n",
       "      <td>IT</td>\n",
       "    </tr>\n",
       "    <tr>\n",
       "      <th>1</th>\n",
       "      <td>0-50.ru</td>\n",
       "      <td>RS</td>\n",
       "    </tr>\n",
       "    <tr>\n",
       "      <th>2</th>\n",
       "      <td>0-60mag.com</td>\n",
       "      <td>US</td>\n",
       "    </tr>\n",
       "    <tr>\n",
       "      <th>3</th>\n",
       "      <td>0-debt.com</td>\n",
       "      <td>US</td>\n",
       "    </tr>\n",
       "    <tr>\n",
       "      <th>4</th>\n",
       "      <td>000fff.org</td>\n",
       "      <td>US</td>\n",
       "    </tr>\n",
       "  </tbody>\n",
       "</table>\n",
       "</div>"
      ],
      "text/plain": [
       "        source fips\n",
       "0     0-100.it   IT\n",
       "1      0-50.ru   RS\n",
       "2  0-60mag.com   US\n",
       "3   0-debt.com   US\n",
       "4   000fff.org   US"
      ]
     },
     "execution_count": 135,
     "metadata": {},
     "output_type": "execute_result"
    }
   ],
   "source": [
    "# import csv file to filter sources by country \n",
    "\n",
    "country_filter = pd.read_csv('/Users/KevinLubin/Desktop/ds/pearl/gdelt_country_sources.csv')\n",
    "country_filter.head()"
   ]
  },
  {
   "cell_type": "code",
   "execution_count": 64,
   "metadata": {},
   "outputs": [],
   "source": [
    "# define credentials object for GCP to run queries\n",
    "\n",
    "credentials = service_account.Credentials.from_service_account_file(\n",
    "    '/Users/KevinLubin/Desktop/ds/pearl/pearl-336700-0fa91569420d.json')"
   ]
  },
  {
   "cell_type": "code",
   "execution_count": 136,
   "metadata": {},
   "outputs": [
    {
     "name": "stderr",
     "output_type": "stream",
     "text": [
      "Downloading: 100%|██████████| 261/261 [00:00<00:00, 1025.13rows/s]\n"
     ]
    }
   ],
   "source": [
    "# Perform query\n",
    "\n",
    "query = \"\"\"\n",
    "\n",
    "    SELECT GlobalEventID, SQLDATE, EventRootCode, Actor1CountryCode, Actor2CountryCode, Quadclass, AvgTone,\n",
    "    GoldSteinScale, NumMentions, Sourceurl\n",
    "\n",
    "    FROM `gdelt-bq.full.events`\n",
    "    \n",
    "    WHERE (SQLDATE >= 20210101 AND SQLDATE <= 20210105)\n",
    "    \n",
    "    AND ActionGeo_CountryCode = 'HA'\n",
    "    \n",
    "    GROUP BY SQLDATE, GlobalEventID, EventRootCode, Actor1CountryCode, Actor2CountryCode, Quadclass, AvgTone, \n",
    "    GoldSteinScale, NumMentions, Sourceurl\n",
    "    \n",
    "    ORDER BY SQLDATE, GlobalEventID, EventRootCode, Actor1CountryCode, Actor2CountryCode, Quadclass, AvgTone,\n",
    "    GoldSteinScale, NumMentions, Sourceurl\n",
    "    \n",
    "\"\"\"\n",
    "\n",
    "df = pandas_gbq.read_gbq(query, credentials=credentials)"
   ]
  },
  {
   "cell_type": "code",
   "execution_count": 142,
   "metadata": {},
   "outputs": [
    {
     "data": {
      "text/html": [
       "<div>\n",
       "<style scoped>\n",
       "    .dataframe tbody tr th:only-of-type {\n",
       "        vertical-align: middle;\n",
       "    }\n",
       "\n",
       "    .dataframe tbody tr th {\n",
       "        vertical-align: top;\n",
       "    }\n",
       "\n",
       "    .dataframe thead th {\n",
       "        text-align: right;\n",
       "    }\n",
       "</style>\n",
       "<table border=\"1\" class=\"dataframe\">\n",
       "  <thead>\n",
       "    <tr style=\"text-align: right;\">\n",
       "      <th></th>\n",
       "      <th>GlobalEventID</th>\n",
       "      <th>SQLDATE</th>\n",
       "      <th>EventRootCode</th>\n",
       "      <th>Actor1CountryCode</th>\n",
       "      <th>Actor2CountryCode</th>\n",
       "      <th>Quadclass</th>\n",
       "      <th>AvgTone</th>\n",
       "      <th>GoldSteinScale</th>\n",
       "      <th>NumMentions</th>\n",
       "      <th>Sourceurl</th>\n",
       "    </tr>\n",
       "  </thead>\n",
       "  <tbody>\n",
       "    <tr>\n",
       "      <th>0</th>\n",
       "      <td>962251396</td>\n",
       "      <td>20210101</td>\n",
       "      <td>07</td>\n",
       "      <td>HTI</td>\n",
       "      <td>USA</td>\n",
       "      <td>2</td>\n",
       "      <td>-2.325581</td>\n",
       "      <td>7.0</td>\n",
       "      <td>2</td>\n",
       "      <td>https://www.bizjournals.com/baltimore/news/202...</td>\n",
       "    </tr>\n",
       "    <tr>\n",
       "      <th>1</th>\n",
       "      <td>962254970</td>\n",
       "      <td>20210101</td>\n",
       "      <td>17</td>\n",
       "      <td>None</td>\n",
       "      <td>None</td>\n",
       "      <td>4</td>\n",
       "      <td>-3.227166</td>\n",
       "      <td>-5.0</td>\n",
       "      <td>4</td>\n",
       "      <td>https://www.timesnownews.com/international/art...</td>\n",
       "    </tr>\n",
       "    <tr>\n",
       "      <th>2</th>\n",
       "      <td>962254971</td>\n",
       "      <td>20210101</td>\n",
       "      <td>17</td>\n",
       "      <td>None</td>\n",
       "      <td>None</td>\n",
       "      <td>4</td>\n",
       "      <td>-3.227166</td>\n",
       "      <td>-5.0</td>\n",
       "      <td>16</td>\n",
       "      <td>https://www.timesnownews.com/international/art...</td>\n",
       "    </tr>\n",
       "    <tr>\n",
       "      <th>3</th>\n",
       "      <td>962255205</td>\n",
       "      <td>20210101</td>\n",
       "      <td>18</td>\n",
       "      <td>HTI</td>\n",
       "      <td>PAK</td>\n",
       "      <td>4</td>\n",
       "      <td>-3.227166</td>\n",
       "      <td>-9.0</td>\n",
       "      <td>4</td>\n",
       "      <td>https://www.timesnownews.com/international/art...</td>\n",
       "    </tr>\n",
       "    <tr>\n",
       "      <th>4</th>\n",
       "      <td>962280685</td>\n",
       "      <td>20210101</td>\n",
       "      <td>04</td>\n",
       "      <td>BRA</td>\n",
       "      <td>ESP</td>\n",
       "      <td>1</td>\n",
       "      <td>-0.504202</td>\n",
       "      <td>1.0</td>\n",
       "      <td>6</td>\n",
       "      <td>https://dissidentvoice.org/2021/01/canadas-all...</td>\n",
       "    </tr>\n",
       "  </tbody>\n",
       "</table>\n",
       "</div>"
      ],
      "text/plain": [
       "   GlobalEventID   SQLDATE EventRootCode Actor1CountryCode Actor2CountryCode  \\\n",
       "0      962251396  20210101            07               HTI               USA   \n",
       "1      962254970  20210101            17              None              None   \n",
       "2      962254971  20210101            17              None              None   \n",
       "3      962255205  20210101            18               HTI               PAK   \n",
       "4      962280685  20210101            04               BRA               ESP   \n",
       "\n",
       "   Quadclass   AvgTone  GoldSteinScale  NumMentions  \\\n",
       "0          2 -2.325581             7.0            2   \n",
       "1          4 -3.227166            -5.0            4   \n",
       "2          4 -3.227166            -5.0           16   \n",
       "3          4 -3.227166            -9.0            4   \n",
       "4          1 -0.504202             1.0            6   \n",
       "\n",
       "                                           Sourceurl  \n",
       "0  https://www.bizjournals.com/baltimore/news/202...  \n",
       "1  https://www.timesnownews.com/international/art...  \n",
       "2  https://www.timesnownews.com/international/art...  \n",
       "3  https://www.timesnownews.com/international/art...  \n",
       "4  https://dissidentvoice.org/2021/01/canadas-all...  "
      ]
     },
     "execution_count": 142,
     "metadata": {},
     "output_type": "execute_result"
    }
   ],
   "source": [
    "df.head()"
   ]
  },
  {
   "cell_type": "code",
   "execution_count": 125,
   "metadata": {},
   "outputs": [
    {
     "data": {
      "text/plain": [
       "['https://www.havanatimes.org/?p=135074',\n",
       " 'https://www.boston25news.com/news/rwandan-camera-kids-bring-photography-legacy-to-boston-foster-kids/793643924',\n",
       " 'https://www.hltv.org/forums/threads/1837709/who-are-minorities-in-your-country',\n",
       " 'https://www.hltv.org/forums/threads/1837709/who-are-minorities-in-your-country',\n",
       " 'http://fourwinds10.com/siterun_data/government/foreign_policy_and_government/news.php?q=1540222554',\n",
       " 'https://msutoday.msu.edu/news/2018/four-star-general-former-un-executive-and-retired-congresswoman-to-address-graduates/',\n",
       " 'https://www.vnews.com/George-Sykes-Applies-for-Open-Council-Seat-27587206',\n",
       " 'https://www.vnews.com/George-Sykes-Applies-for-Open-Council-Seat-27587206',\n",
       " 'https://www.vnews.com/George-Sykes-Applies-for-Open-Council-Seat-27587206',\n",
       " 'https://www.vnews.com/George-Sykes-Applies-for-Open-Council-Seat-27587206',\n",
       " 'https://www.pri.org/stories/2019-09-09/lessons-un-peacekeeping-mission-rwanda-25-years-after-genocide-it-failed-stop',\n",
       " 'https://www.sightmagazine.com.au/13284-essay-lessons-from-the-un-peacekeeping-mission-in-rwanda-25-years-after-the-genocide-it-failed-to-stop',\n",
       " 'http://www.thenewhumanitarian.org/news/2019/11/22/Mass-protests-political-freedoms-crises-headlines',\n",
       " 'https://www.thenewhumanitarian.org/news/2019/11/22/Mass-protests-political-freedoms-crises-headlines',\n",
       " 'http://news.trust.org/item/20200107062724-84bbe']"
      ]
     },
     "execution_count": 125,
     "metadata": {},
     "output_type": "execute_result"
    }
   ],
   "source": [
    "df.Sourceurl.to_list()"
   ]
  },
  {
   "cell_type": "code",
   "execution_count": 139,
   "metadata": {},
   "outputs": [],
   "source": [
    "# filtering to sources from lebanon\n",
    "\n",
    "lebanon_sources = country_filter[country_filter.fips == \"LE\"] "
   ]
  },
  {
   "cell_type": "code",
   "execution_count": 143,
   "metadata": {},
   "outputs": [
    {
     "data": {
      "text/html": [
       "<div>\n",
       "<style scoped>\n",
       "    .dataframe tbody tr th:only-of-type {\n",
       "        vertical-align: middle;\n",
       "    }\n",
       "\n",
       "    .dataframe tbody tr th {\n",
       "        vertical-align: top;\n",
       "    }\n",
       "\n",
       "    .dataframe thead th {\n",
       "        text-align: right;\n",
       "    }\n",
       "</style>\n",
       "<table border=\"1\" class=\"dataframe\">\n",
       "  <thead>\n",
       "    <tr style=\"text-align: right;\">\n",
       "      <th></th>\n",
       "      <th>source</th>\n",
       "      <th>fips</th>\n",
       "    </tr>\n",
       "  </thead>\n",
       "  <tbody>\n",
       "    <tr>\n",
       "      <th>682</th>\n",
       "      <td>14march.org</td>\n",
       "      <td>LE</td>\n",
       "    </tr>\n",
       "    <tr>\n",
       "      <th>1515</th>\n",
       "      <td>3akarat.net</td>\n",
       "      <td>LE</td>\n",
       "    </tr>\n",
       "    <tr>\n",
       "      <th>2702</th>\n",
       "      <td>98weeks.net</td>\n",
       "      <td>LE</td>\n",
       "    </tr>\n",
       "    <tr>\n",
       "      <th>2910</th>\n",
       "      <td>aaco.org</td>\n",
       "      <td>LE</td>\n",
       "    </tr>\n",
       "    <tr>\n",
       "      <th>5110</th>\n",
       "      <td>afedonline.org</td>\n",
       "      <td>LE</td>\n",
       "    </tr>\n",
       "  </tbody>\n",
       "</table>\n",
       "</div>"
      ],
      "text/plain": [
       "              source fips\n",
       "682      14march.org   LE\n",
       "1515     3akarat.net   LE\n",
       "2702     98weeks.net   LE\n",
       "2910        aaco.org   LE\n",
       "5110  afedonline.org   LE"
      ]
     },
     "execution_count": 143,
     "metadata": {},
     "output_type": "execute_result"
    }
   ],
   "source": [
    "lebanon_sources.head()"
   ]
  },
  {
   "cell_type": "code",
   "execution_count": 141,
   "metadata": {},
   "outputs": [
    {
     "data": {
      "text/plain": [
       "(124, 2)"
      ]
     },
     "execution_count": 141,
     "metadata": {},
     "output_type": "execute_result"
    }
   ],
   "source": [
    "lebanon_sources.shape"
   ]
  },
  {
   "cell_type": "code",
   "execution_count": null,
   "metadata": {},
   "outputs": [],
   "source": [
    "# TODO: write code to look for the base URL from above in the Sourceurl column from the query df "
   ]
  }
 ],
 "metadata": {
  "kernelspec": {
   "display_name": "Python 3",
   "language": "python",
   "name": "python3"
  },
  "language_info": {
   "codemirror_mode": {
    "name": "ipython",
    "version": 3
   },
   "file_extension": ".py",
   "mimetype": "text/x-python",
   "name": "python",
   "nbconvert_exporter": "python",
   "pygments_lexer": "ipython3",
   "version": "3.7.1"
  }
 },
 "nbformat": 4,
 "nbformat_minor": 4
}
