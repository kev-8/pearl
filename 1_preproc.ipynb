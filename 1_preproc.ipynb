{
 "cells": [
  {
   "cell_type": "code",
   "execution_count": 26,
   "metadata": {},
   "outputs": [],
   "source": [
    "# load in libraries\n",
    "\n",
    "import pandas\n",
    "import pandas_gbq\n",
    "from google.cloud import bigquery\n",
    "from google.oauth2 import service_account"
   ]
  },
  {
   "cell_type": "code",
   "execution_count": 32,
   "metadata": {},
   "outputs": [],
   "source": [
    "# define credentials object for GCP to run queries\n",
    "\n",
    "credentials = service_account.Credentials.from_service_account_file(\n",
    "    '/Users/KevinLubin/Desktop/ds/pearl/pearl-336700-0fa91569420d.json')"
   ]
  },
  {
   "cell_type": "code",
   "execution_count": null,
   "metadata": {},
   "outputs": [],
   "source": [
    "# TODO: Edit query so that it only contains news sources from Country 1"
   ]
  },
  {
   "cell_type": "code",
   "execution_count": 59,
   "metadata": {},
   "outputs": [
    {
     "name": "stderr",
     "output_type": "stream",
     "text": [
      "Downloading: 100%|██████████| 1/1 [00:00<00:00,  7.26rows/s]\n"
     ]
    }
   ],
   "source": [
    "# Perform query\n",
    "\n",
    "query = \"\"\"\n",
    "\n",
    "    SELECT GlobalEventID, SQLDATE, EventRootCode, Quadclass, Actor1Type1Code, Actor2Type1Code, AvgTone,\n",
    "    GoldSteinScale, NumMentions, Sourceurl\n",
    "\n",
    "    FROM `gdelt-bq.full.events`\n",
    "\n",
    "    WHERE (SQLDATE >= 20210101 AND SQLDATE <= 20211231)\n",
    "\n",
    "    AND (Actor1CountryCode = 'LBN')\n",
    "\n",
    "    AND (Actor2CountryCode = 'HTI')\n",
    "\n",
    "    AND (Actor1CountryCode != Actor2CountryCode)\n",
    "\n",
    "    GROUP BY SQLDATE, GlobalEventID, EventRootCode, Quadclass, Actor1Type1Code, Actor2Type1Code, AvgTone, \n",
    "    GoldSteinScale, NumMentions, Sourceurl\n",
    "    \n",
    "    ORDER BY SQLDATE, GlobalEventID, EventRootCode, Quadclass, Actor1Type1Code, Actor2Type1Code, AvgTone,\n",
    "    GoldSteinScale, NumMentions, Sourceurl\n",
    "    \n",
    "\"\"\"\n",
    "\n",
    "df = pandas_gbq.read_gbq(query, credentials=credentials)"
   ]
  },
  {
   "cell_type": "code",
   "execution_count": 56,
   "metadata": {},
   "outputs": [
    {
     "data": {
      "text/html": [
       "<div>\n",
       "<style scoped>\n",
       "    .dataframe tbody tr th:only-of-type {\n",
       "        vertical-align: middle;\n",
       "    }\n",
       "\n",
       "    .dataframe tbody tr th {\n",
       "        vertical-align: top;\n",
       "    }\n",
       "\n",
       "    .dataframe thead th {\n",
       "        text-align: right;\n",
       "    }\n",
       "</style>\n",
       "<table border=\"1\" class=\"dataframe\">\n",
       "  <thead>\n",
       "    <tr style=\"text-align: right;\">\n",
       "      <th></th>\n",
       "      <th>GlobalEventID</th>\n",
       "      <th>SQLDATE</th>\n",
       "      <th>EventRootCode</th>\n",
       "      <th>Quadclass</th>\n",
       "      <th>Actor1Type1Code</th>\n",
       "      <th>Actor2Type1Code</th>\n",
       "      <th>AvgTone</th>\n",
       "      <th>GoldSteinScale</th>\n",
       "      <th>NumMentions</th>\n",
       "      <th>Sourceurl</th>\n",
       "    </tr>\n",
       "  </thead>\n",
       "  <tbody>\n",
       "    <tr>\n",
       "      <th>0</th>\n",
       "      <td>978185141</td>\n",
       "      <td>20210306</td>\n",
       "      <td>04</td>\n",
       "      <td>1</td>\n",
       "      <td>None</td>\n",
       "      <td>None</td>\n",
       "      <td>-3.159851</td>\n",
       "      <td>1.0</td>\n",
       "      <td>4</td>\n",
       "      <td>https://international.la-croix.com/news/religi...</td>\n",
       "    </tr>\n",
       "    <tr>\n",
       "      <th>1</th>\n",
       "      <td>978185149</td>\n",
       "      <td>20210306</td>\n",
       "      <td>04</td>\n",
       "      <td>1</td>\n",
       "      <td>None</td>\n",
       "      <td>None</td>\n",
       "      <td>-3.159851</td>\n",
       "      <td>1.0</td>\n",
       "      <td>4</td>\n",
       "      <td>https://international.la-croix.com/news/religi...</td>\n",
       "    </tr>\n",
       "    <tr>\n",
       "      <th>2</th>\n",
       "      <td>978185156</td>\n",
       "      <td>20210306</td>\n",
       "      <td>04</td>\n",
       "      <td>1</td>\n",
       "      <td>None</td>\n",
       "      <td>None</td>\n",
       "      <td>-3.159851</td>\n",
       "      <td>1.0</td>\n",
       "      <td>1</td>\n",
       "      <td>https://international.la-croix.com/news/religi...</td>\n",
       "    </tr>\n",
       "    <tr>\n",
       "      <th>3</th>\n",
       "      <td>978185165</td>\n",
       "      <td>20210306</td>\n",
       "      <td>04</td>\n",
       "      <td>1</td>\n",
       "      <td>None</td>\n",
       "      <td>None</td>\n",
       "      <td>-3.159851</td>\n",
       "      <td>1.0</td>\n",
       "      <td>1</td>\n",
       "      <td>https://international.la-croix.com/news/religi...</td>\n",
       "    </tr>\n",
       "    <tr>\n",
       "      <th>4</th>\n",
       "      <td>978185946</td>\n",
       "      <td>20210405</td>\n",
       "      <td>04</td>\n",
       "      <td>1</td>\n",
       "      <td>None</td>\n",
       "      <td>None</td>\n",
       "      <td>-3.159851</td>\n",
       "      <td>1.0</td>\n",
       "      <td>4</td>\n",
       "      <td>https://international.la-croix.com/news/religi...</td>\n",
       "    </tr>\n",
       "  </tbody>\n",
       "</table>\n",
       "</div>"
      ],
      "text/plain": [
       "   GlobalEventID   SQLDATE EventRootCode  Quadclass Actor1Type1Code  \\\n",
       "0      978185141  20210306            04          1            None   \n",
       "1      978185149  20210306            04          1            None   \n",
       "2      978185156  20210306            04          1            None   \n",
       "3      978185165  20210306            04          1            None   \n",
       "4      978185946  20210405            04          1            None   \n",
       "\n",
       "  Actor2Type1Code   AvgTone  GoldSteinScale  NumMentions  \\\n",
       "0            None -3.159851             1.0            4   \n",
       "1            None -3.159851             1.0            4   \n",
       "2            None -3.159851             1.0            1   \n",
       "3            None -3.159851             1.0            1   \n",
       "4            None -3.159851             1.0            4   \n",
       "\n",
       "                                           Sourceurl  \n",
       "0  https://international.la-croix.com/news/religi...  \n",
       "1  https://international.la-croix.com/news/religi...  \n",
       "2  https://international.la-croix.com/news/religi...  \n",
       "3  https://international.la-croix.com/news/religi...  \n",
       "4  https://international.la-croix.com/news/religi...  "
      ]
     },
     "execution_count": 56,
     "metadata": {},
     "output_type": "execute_result"
    }
   ],
   "source": [
    "df.head()"
   ]
  },
  {
   "cell_type": "code",
   "execution_count": 60,
   "metadata": {},
   "outputs": [
    {
     "data": {
      "text/plain": [
       "['https://www.straitstimes.com/world/two-of-17-kidnapped-missionaries-in-haiti-are-freed-says-group']"
      ]
     },
     "execution_count": 60,
     "metadata": {},
     "output_type": "execute_result"
    }
   ],
   "source": [
    "df.Sourceurl.to_list()"
   ]
  },
  {
   "cell_type": "code",
   "execution_count": null,
   "metadata": {},
   "outputs": [],
   "source": []
  }
 ],
 "metadata": {
  "kernelspec": {
   "display_name": "Python 3",
   "language": "python",
   "name": "python3"
  },
  "language_info": {
   "codemirror_mode": {
    "name": "ipython",
    "version": 3
   },
   "file_extension": ".py",
   "mimetype": "text/x-python",
   "name": "python",
   "nbconvert_exporter": "python",
   "pygments_lexer": "ipython3",
   "version": "3.7.1"
  }
 },
 "nbformat": 4,
 "nbformat_minor": 4
}
