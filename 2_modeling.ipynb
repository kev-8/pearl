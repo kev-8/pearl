{
 "cells": [
  {
   "cell_type": "code",
   "execution_count": 31,
   "metadata": {},
   "outputs": [],
   "source": [
    "# load in libraries\n",
    "\n",
    "import flair\n",
    "import pandas as pd\n",
    "import torch"
   ]
  },
  {
   "cell_type": "code",
   "execution_count": 2,
   "metadata": {},
   "outputs": [],
   "source": [
    "# loading in the final df from the preproc notebook\n",
    "\n",
    "%store -r final_df"
   ]
  },
  {
   "cell_type": "code",
   "execution_count": 3,
   "metadata": {},
   "outputs": [
    {
     "data": {
      "text/html": [
       "<div>\n",
       "<style scoped>\n",
       "    .dataframe tbody tr th:only-of-type {\n",
       "        vertical-align: middle;\n",
       "    }\n",
       "\n",
       "    .dataframe tbody tr th {\n",
       "        vertical-align: top;\n",
       "    }\n",
       "\n",
       "    .dataframe thead th {\n",
       "        text-align: right;\n",
       "    }\n",
       "</style>\n",
       "<table border=\"1\" class=\"dataframe\">\n",
       "  <thead>\n",
       "    <tr style=\"text-align: right;\">\n",
       "      <th></th>\n",
       "      <th>GlobalEventID</th>\n",
       "      <th>SQLDATE</th>\n",
       "      <th>EventCode</th>\n",
       "      <th>EventBaseCode</th>\n",
       "      <th>EventRootCode</th>\n",
       "      <th>Quadclass</th>\n",
       "      <th>AvgTone</th>\n",
       "      <th>GoldSteinScale</th>\n",
       "      <th>NumMentions</th>\n",
       "      <th>Sourceurl</th>\n",
       "      <th>article_text</th>\n",
       "    </tr>\n",
       "  </thead>\n",
       "  <tbody>\n",
       "    <tr>\n",
       "      <th>0</th>\n",
       "      <td>962310574</td>\n",
       "      <td>20210101</td>\n",
       "      <td>010</td>\n",
       "      <td>010</td>\n",
       "      <td>01</td>\n",
       "      <td>1</td>\n",
       "      <td>3.490667</td>\n",
       "      <td>0.0</td>\n",
       "      <td>16</td>\n",
       "      <td>https://www.newswire.ca/news-releases/statemen...</td>\n",
       "      <td>OTTAWA, ON, Jan. 1, 2021 /CNW/ - The Prime Min...</td>\n",
       "    </tr>\n",
       "    <tr>\n",
       "      <th>1</th>\n",
       "      <td>1021737031</td>\n",
       "      <td>20210104</td>\n",
       "      <td>173</td>\n",
       "      <td>173</td>\n",
       "      <td>17</td>\n",
       "      <td>4</td>\n",
       "      <td>-4.983389</td>\n",
       "      <td>-5.0</td>\n",
       "      <td>2</td>\n",
       "      <td>https://www.thestar.com.my/news/world/2022/01/...</td>\n",
       "      <td>BOGOTA/PANAMA CITY (Reuters) - Panama authorit...</td>\n",
       "    </tr>\n",
       "    <tr>\n",
       "      <th>2</th>\n",
       "      <td>963601457</td>\n",
       "      <td>20210110</td>\n",
       "      <td>042</td>\n",
       "      <td>042</td>\n",
       "      <td>04</td>\n",
       "      <td>1</td>\n",
       "      <td>-1.134931</td>\n",
       "      <td>1.9</td>\n",
       "      <td>10</td>\n",
       "      <td>https://www.theglobeandmail.com/opinion/articl...</td>\n",
       "      <td>A Canadian soldier aids a senior citizen on Ma...</td>\n",
       "    </tr>\n",
       "    <tr>\n",
       "      <th>3</th>\n",
       "      <td>964169889</td>\n",
       "      <td>20210113</td>\n",
       "      <td>036</td>\n",
       "      <td>036</td>\n",
       "      <td>03</td>\n",
       "      <td>1</td>\n",
       "      <td>-2.027027</td>\n",
       "      <td>4.0</td>\n",
       "      <td>6</td>\n",
       "      <td>https://www.kamloopsnews.ca/news/city-region/k...</td>\n",
       "      <td>URL not found.</td>\n",
       "    </tr>\n",
       "    <tr>\n",
       "      <th>4</th>\n",
       "      <td>964200375</td>\n",
       "      <td>20210113</td>\n",
       "      <td>042</td>\n",
       "      <td>042</td>\n",
       "      <td>04</td>\n",
       "      <td>1</td>\n",
       "      <td>2.439024</td>\n",
       "      <td>1.9</td>\n",
       "      <td>10</td>\n",
       "      <td>https://montrealgazette.com/opinion/columnists...</td>\n",
       "      <td>This advertisement has not loaded yet, but you...</td>\n",
       "    </tr>\n",
       "  </tbody>\n",
       "</table>\n",
       "</div>"
      ],
      "text/plain": [
       "   GlobalEventID   SQLDATE EventCode EventBaseCode EventRootCode  Quadclass  \\\n",
       "0      962310574  20210101       010           010            01          1   \n",
       "1     1021737031  20210104       173           173            17          4   \n",
       "2      963601457  20210110       042           042            04          1   \n",
       "3      964169889  20210113       036           036            03          1   \n",
       "4      964200375  20210113       042           042            04          1   \n",
       "\n",
       "    AvgTone  GoldSteinScale  NumMentions  \\\n",
       "0  3.490667             0.0           16   \n",
       "1 -4.983389            -5.0            2   \n",
       "2 -1.134931             1.9           10   \n",
       "3 -2.027027             4.0            6   \n",
       "4  2.439024             1.9           10   \n",
       "\n",
       "                                           Sourceurl  \\\n",
       "0  https://www.newswire.ca/news-releases/statemen...   \n",
       "1  https://www.thestar.com.my/news/world/2022/01/...   \n",
       "2  https://www.theglobeandmail.com/opinion/articl...   \n",
       "3  https://www.kamloopsnews.ca/news/city-region/k...   \n",
       "4  https://montrealgazette.com/opinion/columnists...   \n",
       "\n",
       "                                        article_text  \n",
       "0  OTTAWA, ON, Jan. 1, 2021 /CNW/ - The Prime Min...  \n",
       "1  BOGOTA/PANAMA CITY (Reuters) - Panama authorit...  \n",
       "2  A Canadian soldier aids a senior citizen on Ma...  \n",
       "3                                     URL not found.  \n",
       "4  This advertisement has not loaded yet, but you...  "
      ]
     },
     "execution_count": 3,
     "metadata": {},
     "output_type": "execute_result"
    }
   ],
   "source": [
    "final_df.head()"
   ]
  },
  {
   "cell_type": "code",
   "execution_count": 26,
   "metadata": {},
   "outputs": [],
   "source": [
    "from flair.data import Sentence\n",
    "from flair.models import SequenceTagger"
   ]
  },
  {
   "cell_type": "code",
   "execution_count": 11,
   "metadata": {},
   "outputs": [
    {
     "name": "stdout",
     "output_type": "stream",
     "text": [
      "Sentence: \"OTTAWA, ON, Jan. 1, 2021 /CNW/ - The Prime Minister, Justin Trudeau, today issued the following statement on Haiti's Independence Day:\n",
      "\n",
      "\"Today, we join the Haitian community in Canada and around the world in marking Haiti's Independence Day.\n",
      "\n",
      "\"For a long time, Canada and Haiti have been united by a strong friendship. This friendship has grown stronger over time as a result of the close ties between our people, a common language, and a long history of cooperation, especially within several international organizations. By sharing its culture and traditions, the Haitian community in Canada also continually enriches our country.\n",
      "\n",
      "\"The current global COVID–19 pandemic reminds us more than ever of the importance of solidarity. This is why, by working with our partners, the Government of Canada will continue to help Haiti strengthen its national systems and assist in the timely distribution of COVID–19 vaccines.\n",
      "\n",
      "\"In Canada, members of the Haitian community have made an exceptional contribution to the pandemic response. Many have been on the front lines helping our most vulnerable. I would like to thank them, from the bottom of my heart. We will always remember their courage and the tremendous sacrifices they have made.\n",
      "\n",
      "\"Unfortunately, this year, we will not be able to all come together to share a traditional soup joumou as part of the celebrations on January 1. However, we can still mark this important day in other ways, while following public health guidelines.\n",
      "\n",
      "\"On behalf of the Government of Canada, I offer my best wishes to the Haitian community celebrating Haiti's Independence Day today.\"\n",
      "\n",
      "This document is also available at http://pm.gc.ca\n",
      "\n",
      "SOURCE Prime Minister's Office\n",
      "\n",
      "For further information: PMO Media Relations: [email protected]\n",
      "\n",
      "Related Links\n",
      "\n",
      "http://pm.gc.ca/\n",
      "\n",
      "\" - 270 Tokens\n"
     ]
    }
   ],
   "source": [
    "sentence = Sentence(final_df.article_text[0])\n",
    "print(sentence)"
   ]
  },
  {
   "cell_type": "code",
   "execution_count": 17,
   "metadata": {},
   "outputs": [],
   "source": [
    "test_token = sentence[35]"
   ]
  },
  {
   "cell_type": "code",
   "execution_count": 18,
   "metadata": {},
   "outputs": [
    {
     "data": {
      "text/plain": [
       "'Independence'"
      ]
     },
     "execution_count": 18,
     "metadata": {},
     "output_type": "execute_result"
    }
   ],
   "source": [
    "test_token.text"
   ]
  },
  {
   "cell_type": "code",
   "execution_count": 19,
   "metadata": {},
   "outputs": [
    {
     "data": {
      "text/plain": [
       "36"
      ]
     },
     "execution_count": 19,
     "metadata": {},
     "output_type": "execute_result"
    }
   ],
   "source": [
    "test_token.idx"
   ]
  },
  {
   "cell_type": "code",
   "execution_count": 33,
   "metadata": {},
   "outputs": [
    {
     "name": "stderr",
     "output_type": "stream",
     "text": [
      "/Users/KevinLubin/anaconda3/lib/python3.7/site-packages/torch/serialization.py:623: UserWarning: Couldn't retrieve source code for container of type StackedEmbeddings. It won't be checked for correctness upon loading.\n",
      "  \"type \" + container_type.__name__ + \". It won't be checked \"\n",
      "/Users/KevinLubin/anaconda3/lib/python3.7/site-packages/torch/serialization.py:623: UserWarning: Couldn't retrieve source code for container of type WordEmbeddings. It won't be checked for correctness upon loading.\n",
      "  \"type \" + container_type.__name__ + \". It won't be checked \"\n",
      "/Users/KevinLubin/anaconda3/lib/python3.7/site-packages/torch/serialization.py:623: UserWarning: Couldn't retrieve source code for container of type FlairEmbeddings. It won't be checked for correctness upon loading.\n",
      "  \"type \" + container_type.__name__ + \". It won't be checked \"\n",
      "/Users/KevinLubin/anaconda3/lib/python3.7/site-packages/torch/serialization.py:657: SourceChangeWarning: source code of class 'flair.models.language_model.LanguageModel' has changed. you can retrieve the original source code by accessing the object's source attribute or set `torch.nn.Module.dump_patches = True` and use the patch tool to revert the changes.\n",
      "  warnings.warn(msg, SourceChangeWarning)\n",
      "/Users/KevinLubin/anaconda3/lib/python3.7/site-packages/torch/serialization.py:657: SourceChangeWarning: source code of class 'torch.nn.modules.dropout.Dropout' has changed. you can retrieve the original source code by accessing the object's source attribute or set `torch.nn.Module.dump_patches = True` and use the patch tool to revert the changes.\n",
      "  warnings.warn(msg, SourceChangeWarning)\n",
      "/Users/KevinLubin/anaconda3/lib/python3.7/site-packages/torch/serialization.py:657: SourceChangeWarning: source code of class 'torch.nn.modules.sparse.Embedding' has changed. you can retrieve the original source code by accessing the object's source attribute or set `torch.nn.Module.dump_patches = True` and use the patch tool to revert the changes.\n",
      "  warnings.warn(msg, SourceChangeWarning)\n",
      "/Users/KevinLubin/anaconda3/lib/python3.7/site-packages/torch/serialization.py:657: SourceChangeWarning: source code of class 'torch.nn.modules.rnn.LSTM' has changed. you can retrieve the original source code by accessing the object's source attribute or set `torch.nn.Module.dump_patches = True` and use the patch tool to revert the changes.\n",
      "  warnings.warn(msg, SourceChangeWarning)\n",
      "/Users/KevinLubin/anaconda3/lib/python3.7/site-packages/torch/serialization.py:657: SourceChangeWarning: source code of class 'torch.nn.modules.linear.Linear' has changed. you can retrieve the original source code by accessing the object's source attribute or set `torch.nn.Module.dump_patches = True` and use the patch tool to revert the changes.\n",
      "  warnings.warn(msg, SourceChangeWarning)\n"
     ]
    }
   ],
   "source": [
    "# have to manually load model using pytorch because the link to load model in flair is not working\n",
    "\n",
    "tagger = torch.load('/Users/KevinLubin/Desktop/ds/pearl/en-ner-conll03-v0.4.pt', map_location=torch.device('cpu'))"
   ]
  },
  {
   "cell_type": "code",
   "execution_count": 35,
   "metadata": {},
   "outputs": [
    {
     "ename": "AttributeError",
     "evalue": "'dict' object has no attribute 'predict'",
     "output_type": "error",
     "traceback": [
      "\u001b[0;31m---------------------------------------------------------------------------\u001b[0m",
      "\u001b[0;31mAttributeError\u001b[0m                            Traceback (most recent call last)",
      "\u001b[0;32m<ipython-input-35-d3396002fbee>\u001b[0m in \u001b[0;36m<module>\u001b[0;34m\u001b[0m\n\u001b[0;32m----> 1\u001b[0;31m \u001b[0mtagger\u001b[0m\u001b[0;34m.\u001b[0m\u001b[0mpredict\u001b[0m\u001b[0;34m(\u001b[0m\u001b[0msentence\u001b[0m\u001b[0;34m)\u001b[0m\u001b[0;34m\u001b[0m\u001b[0;34m\u001b[0m\u001b[0m\n\u001b[0m",
      "\u001b[0;31mAttributeError\u001b[0m: 'dict' object has no attribute 'predict'"
     ]
    }
   ],
   "source": [
    "tagger.predict(sentence)"
   ]
  },
  {
   "cell_type": "code",
   "execution_count": null,
   "metadata": {},
   "outputs": [],
   "source": [
    "# TODO: load the pytorch model successfully"
   ]
  }
 ],
 "metadata": {
  "kernelspec": {
   "display_name": "Python 3",
   "language": "python",
   "name": "python3"
  },
  "language_info": {
   "codemirror_mode": {
    "name": "ipython",
    "version": 3
   },
   "file_extension": ".py",
   "mimetype": "text/x-python",
   "name": "python",
   "nbconvert_exporter": "python",
   "pygments_lexer": "ipython3",
   "version": "3.7.1"
  }
 },
 "nbformat": 4,
 "nbformat_minor": 4
}
